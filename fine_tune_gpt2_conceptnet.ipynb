{
  "metadata": {
    "kernelspec": {
      "display_name": "Python 3",
      "name": "python3"
    },
    "language_info": {
      "name": "python",
      "version": "3.10.13",
      "mimetype": "text/x-python",
      "codemirror_mode": {
        "name": "ipython",
        "version": 3
      },
      "pygments_lexer": "ipython3",
      "nbconvert_exporter": "python",
      "file_extension": ".py"
    },
    "kaggle": {
      "accelerator": "gpu",
      "dataSources": [],
      "dockerImageVersionId": 30698,
      "isInternetEnabled": true,
      "language": "python",
      "sourceType": "notebook",
      "isGpuEnabled": true
    },
    "colab": {
      "provenance": [],
      "gpuType": "T4",
      "toc_visible": true
    },
    "accelerator": "GPU"
  },
  "nbformat_minor": 0,
  "nbformat": 4,
  "cells": [
    {
      "cell_type": "code",
      "source": [
        "import numpy as np\n",
        "import pandas as pd\n",
        "import matplotlib.pyplot as plt\n",
        "import torch\n",
        "import torch.nn as nn"
      ],
      "metadata": {
        "_uuid": "8f2839f25d086af736a60e9eeb907d3b93b6e0e5",
        "_cell_guid": "b1076dfc-b9ad-4769-8c92-a6c4dae69d19",
        "execution": {
          "iopub.status.busy": "2024-04-25T05:38:40.559695Z",
          "iopub.execute_input": "2024-04-25T05:38:40.560452Z",
          "iopub.status.idle": "2024-04-25T05:38:40.564783Z",
          "shell.execute_reply.started": "2024-04-25T05:38:40.560420Z",
          "shell.execute_reply": "2024-04-25T05:38:40.563854Z"
        },
        "trusted": true,
        "id": "PJSZLowE0eUf"
      },
      "execution_count": null,
      "outputs": []
    },
    {
      "cell_type": "code",
      "source": [
        "!pip install datasets"
      ],
      "metadata": {
        "execution": {
          "iopub.status.busy": "2024-04-25T05:38:40.568317Z",
          "iopub.execute_input": "2024-04-25T05:38:40.568868Z",
          "iopub.status.idle": "2024-04-25T05:38:52.809388Z",
          "shell.execute_reply.started": "2024-04-25T05:38:40.568842Z",
          "shell.execute_reply": "2024-04-25T05:38:52.808415Z"
        },
        "trusted": true,
        "colab": {
          "base_uri": "https://localhost:8080/"
        },
        "id": "TCfWAkBP0eUh",
        "outputId": "f467d9c2-a365-4587-89c5-bf5dda883e15"
      },
      "execution_count": null,
      "outputs": [
        {
          "output_type": "stream",
          "name": "stdout",
          "text": [
            "Requirement already satisfied: datasets in /usr/local/lib/python3.10/dist-packages (2.19.0)\n",
            "Requirement already satisfied: filelock in /usr/local/lib/python3.10/dist-packages (from datasets) (3.13.4)\n",
            "Requirement already satisfied: numpy>=1.17 in /usr/local/lib/python3.10/dist-packages (from datasets) (1.25.2)\n",
            "Requirement already satisfied: pyarrow>=12.0.0 in /usr/local/lib/python3.10/dist-packages (from datasets) (14.0.2)\n",
            "Requirement already satisfied: pyarrow-hotfix in /usr/local/lib/python3.10/dist-packages (from datasets) (0.6)\n",
            "Requirement already satisfied: dill<0.3.9,>=0.3.0 in /usr/local/lib/python3.10/dist-packages (from datasets) (0.3.8)\n",
            "Requirement already satisfied: pandas in /usr/local/lib/python3.10/dist-packages (from datasets) (2.0.3)\n",
            "Requirement already satisfied: requests>=2.19.0 in /usr/local/lib/python3.10/dist-packages (from datasets) (2.31.0)\n",
            "Requirement already satisfied: tqdm>=4.62.1 in /usr/local/lib/python3.10/dist-packages (from datasets) (4.66.2)\n",
            "Requirement already satisfied: xxhash in /usr/local/lib/python3.10/dist-packages (from datasets) (3.4.1)\n",
            "Requirement already satisfied: multiprocess in /usr/local/lib/python3.10/dist-packages (from datasets) (0.70.16)\n",
            "Requirement already satisfied: fsspec[http]<=2024.3.1,>=2023.1.0 in /usr/local/lib/python3.10/dist-packages (from datasets) (2023.6.0)\n",
            "Requirement already satisfied: aiohttp in /usr/local/lib/python3.10/dist-packages (from datasets) (3.9.5)\n",
            "Requirement already satisfied: huggingface-hub>=0.21.2 in /usr/local/lib/python3.10/dist-packages (from datasets) (0.22.2)\n",
            "Requirement already satisfied: packaging in /usr/local/lib/python3.10/dist-packages (from datasets) (24.0)\n",
            "Requirement already satisfied: pyyaml>=5.1 in /usr/local/lib/python3.10/dist-packages (from datasets) (6.0.1)\n",
            "Requirement already satisfied: aiosignal>=1.1.2 in /usr/local/lib/python3.10/dist-packages (from aiohttp->datasets) (1.3.1)\n",
            "Requirement already satisfied: attrs>=17.3.0 in /usr/local/lib/python3.10/dist-packages (from aiohttp->datasets) (23.2.0)\n",
            "Requirement already satisfied: frozenlist>=1.1.1 in /usr/local/lib/python3.10/dist-packages (from aiohttp->datasets) (1.4.1)\n",
            "Requirement already satisfied: multidict<7.0,>=4.5 in /usr/local/lib/python3.10/dist-packages (from aiohttp->datasets) (6.0.5)\n",
            "Requirement already satisfied: yarl<2.0,>=1.0 in /usr/local/lib/python3.10/dist-packages (from aiohttp->datasets) (1.9.4)\n",
            "Requirement already satisfied: async-timeout<5.0,>=4.0 in /usr/local/lib/python3.10/dist-packages (from aiohttp->datasets) (4.0.3)\n",
            "Requirement already satisfied: typing-extensions>=3.7.4.3 in /usr/local/lib/python3.10/dist-packages (from huggingface-hub>=0.21.2->datasets) (4.11.0)\n",
            "Requirement already satisfied: charset-normalizer<4,>=2 in /usr/local/lib/python3.10/dist-packages (from requests>=2.19.0->datasets) (3.3.2)\n",
            "Requirement already satisfied: idna<4,>=2.5 in /usr/local/lib/python3.10/dist-packages (from requests>=2.19.0->datasets) (3.7)\n",
            "Requirement already satisfied: urllib3<3,>=1.21.1 in /usr/local/lib/python3.10/dist-packages (from requests>=2.19.0->datasets) (2.0.7)\n",
            "Requirement already satisfied: certifi>=2017.4.17 in /usr/local/lib/python3.10/dist-packages (from requests>=2.19.0->datasets) (2024.2.2)\n",
            "Requirement already satisfied: python-dateutil>=2.8.2 in /usr/local/lib/python3.10/dist-packages (from pandas->datasets) (2.8.2)\n",
            "Requirement already satisfied: pytz>=2020.1 in /usr/local/lib/python3.10/dist-packages (from pandas->datasets) (2023.4)\n",
            "Requirement already satisfied: tzdata>=2022.1 in /usr/local/lib/python3.10/dist-packages (from pandas->datasets) (2024.1)\n",
            "Requirement already satisfied: six>=1.5 in /usr/local/lib/python3.10/dist-packages (from python-dateutil>=2.8.2->pandas->datasets) (1.16.0)\n"
          ]
        }
      ]
    },
    {
      "cell_type": "code",
      "source": [
        "from datasets import load_dataset\n",
        "dataset = load_dataset(\"social_bias_frames\")\n",
        "pdtrain = pd.DataFrame(dataset[\"train\"])\n",
        "pdval = pd.DataFrame(dataset[\"validation\"])\n",
        "ptest = pd.DataFrame(dataset[\"test\"])"
      ],
      "metadata": {
        "execution": {
          "iopub.status.busy": "2024-04-25T05:38:52.811962Z",
          "iopub.execute_input": "2024-04-25T05:38:52.812844Z",
          "iopub.status.idle": "2024-04-25T05:39:33.633129Z",
          "shell.execute_reply.started": "2024-04-25T05:38:52.812799Z",
          "shell.execute_reply": "2024-04-25T05:39:33.632096Z"
        },
        "trusted": true,
        "colab": {
          "base_uri": "https://localhost:8080/"
        },
        "id": "7z-s9R810eUi",
        "outputId": "1aff5c79-28c4-4af2-8097-a128199e683c"
      },
      "execution_count": null,
      "outputs": [
        {
          "output_type": "stream",
          "name": "stderr",
          "text": [
            "/usr/local/lib/python3.10/dist-packages/huggingface_hub/utils/_token.py:89: UserWarning: \n",
            "The secret `HF_TOKEN` does not exist in your Colab secrets.\n",
            "To authenticate with the Hugging Face Hub, create a token in your settings tab (https://huggingface.co/settings/tokens), set it as secret in your Google Colab and restart your session.\n",
            "You will be able to reuse this secret in all of your notebooks.\n",
            "Please note that authentication is recommended but still optional to access public models or datasets.\n",
            "  warnings.warn(\n"
          ]
        }
      ]
    },
    {
      "cell_type": "code",
      "source": [
        "!unzip /usr/share/nltk_data/corpora/wordnet.zip -d /usr/share/nltk_data/corpora/"
      ],
      "metadata": {
        "execution": {
          "iopub.status.busy": "2024-04-25T05:39:33.637831Z",
          "iopub.execute_input": "2024-04-25T05:39:33.638431Z",
          "iopub.status.idle": "2024-04-25T05:41:10.098030Z",
          "shell.execute_reply.started": "2024-04-25T05:39:33.638402Z",
          "shell.execute_reply": "2024-04-25T05:41:10.096914Z"
        },
        "trusted": true,
        "colab": {
          "base_uri": "https://localhost:8080/"
        },
        "id": "LXcIaGcd0eUi",
        "outputId": "78893b50-97c4-4a3b-f4be-3d0764a59f4a"
      },
      "execution_count": null,
      "outputs": [
        {
          "output_type": "stream",
          "name": "stdout",
          "text": [
            "unzip:  cannot find or open /usr/share/nltk_data/corpora/wordnet.zip, /usr/share/nltk_data/corpora/wordnet.zip.zip or /usr/share/nltk_data/corpora/wordnet.zip.ZIP.\n"
          ]
        }
      ]
    },
    {
      "cell_type": "code",
      "source": [
        "import nltk\n",
        "nltk.download('punkt')"
      ],
      "metadata": {
        "colab": {
          "base_uri": "https://localhost:8080/"
        },
        "id": "Gpt9SF-31T0S",
        "outputId": "459d0f2d-fefb-4a28-c7c4-5bf481ae36d0"
      },
      "execution_count": null,
      "outputs": [
        {
          "output_type": "stream",
          "name": "stderr",
          "text": [
            "[nltk_data] Downloading package punkt to /root/nltk_data...\n",
            "[nltk_data]   Package punkt is already up-to-date!\n"
          ]
        },
        {
          "output_type": "execute_result",
          "data": {
            "text/plain": [
              "True"
            ]
          },
          "metadata": {},
          "execution_count": 5
        }
      ]
    },
    {
      "cell_type": "code",
      "source": [
        "import nltk\n",
        "nltk.download('stopwords')"
      ],
      "metadata": {
        "colab": {
          "base_uri": "https://localhost:8080/"
        },
        "id": "1Qe3RvNq2SJX",
        "outputId": "24d03208-9370-44fa-c437-2938a3247180"
      },
      "execution_count": null,
      "outputs": [
        {
          "output_type": "stream",
          "name": "stderr",
          "text": [
            "[nltk_data] Downloading package stopwords to /root/nltk_data...\n",
            "[nltk_data]   Package stopwords is already up-to-date!\n"
          ]
        },
        {
          "output_type": "execute_result",
          "data": {
            "text/plain": [
              "True"
            ]
          },
          "metadata": {},
          "execution_count": 6
        }
      ]
    },
    {
      "cell_type": "code",
      "source": [
        "import nltk\n",
        "nltk.download('wordnet')"
      ],
      "metadata": {
        "colab": {
          "base_uri": "https://localhost:8080/"
        },
        "id": "L659OLYx2dkD",
        "outputId": "5916a143-236b-44b9-8cca-b920c2799d64"
      },
      "execution_count": null,
      "outputs": [
        {
          "output_type": "stream",
          "name": "stderr",
          "text": [
            "[nltk_data] Downloading package wordnet to /root/nltk_data...\n",
            "[nltk_data]   Package wordnet is already up-to-date!\n"
          ]
        },
        {
          "output_type": "execute_result",
          "data": {
            "text/plain": [
              "True"
            ]
          },
          "metadata": {},
          "execution_count": 7
        }
      ]
    },
    {
      "cell_type": "code",
      "source": [
        "# pre processing of the str1\n",
        "import string\n",
        "from nltk.tokenize import word_tokenize\n",
        "from nltk.corpus import stopwords\n",
        "import re\n",
        "from nltk.stem import WordNetLemmatizer\n",
        "def preprocess_str1(str1):\n",
        "    str1 = str1.translate(str.maketrans('', '', string.punctuation))\n",
        "    tokens = word_tokenize(str1)\n",
        "    stop_words = set(stopwords.words('english'))\n",
        "    tokens = [word for word in tokens if word.lower() not in stop_words]\n",
        "    tokens = [word for word in tokens if not re.match(r'@[^\\s]+', word)]\n",
        "    umls_pattern = r'\\b(?:UMLS:[A-Z\\d]+)\\b'\n",
        "    tokens = [word for word in tokens if not re.match(umls_pattern, word)]\n",
        "    lemmatizer = WordNetLemmatizer()\n",
        "    tokens = [lemmatizer.lemmatize(word) for word in tokens]\n",
        "    processed_str1 = ' '.join(tokens)\n",
        "    return processed_str1\n",
        "str1 = \"!!@@myuser is a joke to you are you!!! cmon man\"\n",
        "processed_str1 = preprocess_str1(str1)\n",
        "print(processed_str1)"
      ],
      "metadata": {
        "execution": {
          "iopub.status.busy": "2024-04-25T05:41:29.196483Z",
          "iopub.execute_input": "2024-04-25T05:41:29.196872Z",
          "iopub.status.idle": "2024-04-25T05:41:29.206813Z",
          "shell.execute_reply.started": "2024-04-25T05:41:29.196840Z",
          "shell.execute_reply": "2024-04-25T05:41:29.205966Z"
        },
        "trusted": true,
        "colab": {
          "base_uri": "https://localhost:8080/"
        },
        "id": "VS1FjFjH0eUj",
        "outputId": "09e96896-1a9d-4f8e-dd26-587e69ae1a85"
      },
      "execution_count": null,
      "outputs": [
        {
          "output_type": "stream",
          "name": "stdout",
          "text": [
            "myuser joke cmon man\n"
          ]
        }
      ]
    },
    {
      "cell_type": "code",
      "source": [
        "pdtrain[\"post\"] = pdtrain[\"post\"].apply(lambda post : preprocess_str1(post))"
      ],
      "metadata": {
        "execution": {
          "iopub.status.busy": "2024-04-25T05:41:32.527330Z",
          "iopub.execute_input": "2024-04-25T05:41:32.527704Z",
          "iopub.status.idle": "2024-04-25T05:42:28.919427Z",
          "shell.execute_reply.started": "2024-04-25T05:41:32.527653Z",
          "shell.execute_reply": "2024-04-25T05:42:28.918460Z"
        },
        "trusted": true,
        "id": "5NzDsN2Z0eUj"
      },
      "execution_count": null,
      "outputs": []
    },
    {
      "cell_type": "code",
      "source": [
        "pdval[\"post\"] = pdval[\"post\"].apply(lambda post : preprocess_str1(post))\n",
        "ptest[\"post\"] = ptest[\"post\"].apply(lambda post : preprocess_str1(post))"
      ],
      "metadata": {
        "execution": {
          "iopub.status.busy": "2024-04-25T05:43:30.039489Z",
          "iopub.execute_input": "2024-04-25T05:43:30.040350Z",
          "iopub.status.idle": "2024-04-25T05:43:47.180163Z",
          "shell.execute_reply.started": "2024-04-25T05:43:30.040317Z",
          "shell.execute_reply": "2024-04-25T05:43:47.179389Z"
        },
        "trusted": true,
        "id": "KrSAdL710eUj"
      },
      "execution_count": null,
      "outputs": []
    },
    {
      "cell_type": "code",
      "source": [
        "ptest[\"post\"][6]"
      ],
      "metadata": {
        "colab": {
          "base_uri": "https://localhost:8080/",
          "height": 36
        },
        "id": "VQ2hGPz3JPt0",
        "outputId": "18d788b5-6c5a-4ba1-8a1d-1c348b2b10ca"
      },
      "execution_count": null,
      "outputs": [
        {
          "output_type": "execute_result",
          "data": {
            "text/plain": [
              "'u hitting back u got ta call bitch love dont u dare call em slut'"
            ],
            "application/vnd.google.colaboratory.intrinsic+json": {
              "type": "string"
            }
          },
          "metadata": {},
          "execution_count": 50
        }
      ]
    },
    {
      "cell_type": "code",
      "source": [
        "# Removing the columns not useful to us\n",
        "print(pdtrain.columns)"
      ],
      "metadata": {
        "execution": {
          "iopub.status.busy": "2024-04-25T05:44:33.831532Z",
          "iopub.execute_input": "2024-04-25T05:44:33.832230Z",
          "iopub.status.idle": "2024-04-25T05:44:33.837344Z",
          "shell.execute_reply.started": "2024-04-25T05:44:33.832200Z",
          "shell.execute_reply": "2024-04-25T05:44:33.836327Z"
        },
        "trusted": true,
        "colab": {
          "base_uri": "https://localhost:8080/"
        },
        "id": "NbeL62M_0eUj",
        "outputId": "8210f418-a955-4b05-9f6f-73444bfae392"
      },
      "execution_count": null,
      "outputs": [
        {
          "output_type": "stream",
          "name": "stdout",
          "text": [
            "Index(['whoTarget', 'intentYN', 'sexYN', 'sexReason', 'offensiveYN',\n",
            "       'annotatorGender', 'annotatorMinority', 'sexPhrase',\n",
            "       'speakerMinorityYN', 'WorkerId', 'HITId', 'annotatorPolitics',\n",
            "       'annotatorRace', 'annotatorAge', 'post', 'targetMinority',\n",
            "       'targetCategory', 'targetStereotype', 'dataSource'],\n",
            "      dtype='object')\n"
          ]
        }
      ]
    },
    {
      "cell_type": "code",
      "source": [
        "pdtrain = pdtrain[(pdtrain['post'] != '') & (pdtrain['targetStereotype'] != '')]\n",
        "pdval = pdval[(pdval['post'] != '') & (pdval['targetStereotype'] != '')]\n",
        "ptest = ptest[(ptest['post'] != '') & (ptest['targetStereotype'] != '')]"
      ],
      "metadata": {
        "id": "sQso6XJFmvPk"
      },
      "execution_count": null,
      "outputs": []
    },
    {
      "cell_type": "code",
      "source": [
        "pdtrain['input_sequence'] = pdtrain['post'] + \" [SEP] \" + pdtrain['whoTarget'] + \" [SEP] \" + pdtrain['intentYN'] + \" [SEP] \" + pdtrain['sexYN'] + \" [SEP] \" + pdtrain['sexReason'] + \" [SEP] \" + pdtrain['offensiveYN'] + \" [SEP] \" + pdtrain['annotatorGender'] + \" [SEP] \" + pdtrain['annotatorMinority'] + \" [SEP] \" + pdtrain['sexPhrase'] + \" [SEP] \" + pdtrain['speakerMinorityYN'] + \" [SEP] \" + pdtrain['annotatorPolitics'] + \" [SEP] \" + pdtrain['annotatorRace'] + \" [SEP] \" + pdtrain['annotatorAge'] + \" [SEP] \" + pdtrain['targetMinority'] + \" [SEP] \" + pdtrain['targetCategory']"
      ],
      "metadata": {
        "id": "epkjAcvPmzMB",
        "colab": {
          "base_uri": "https://localhost:8080/"
        },
        "outputId": "3697e318-d3ae-4247-ab9d-0cd91707496f"
      },
      "execution_count": null,
      "outputs": [
        {
          "output_type": "stream",
          "name": "stderr",
          "text": [
            "<ipython-input-13-d532bc7147b1>:1: SettingWithCopyWarning: \n",
            "A value is trying to be set on a copy of a slice from a DataFrame.\n",
            "Try using .loc[row_indexer,col_indexer] = value instead\n",
            "\n",
            "See the caveats in the documentation: https://pandas.pydata.org/pandas-docs/stable/user_guide/indexing.html#returning-a-view-versus-a-copy\n",
            "  pdtrain['input_sequence'] = pdtrain['post'] + \" [SEP] \" + pdtrain['whoTarget'] + \" [SEP] \" + pdtrain['intentYN'] + \" [SEP] \" + pdtrain['sexYN'] + \" [SEP] \" + pdtrain['sexReason'] + \" [SEP] \" + pdtrain['offensiveYN'] + \" [SEP] \" + pdtrain['annotatorGender'] + \" [SEP] \" + pdtrain['annotatorMinority'] + \" [SEP] \" + pdtrain['sexPhrase'] + \" [SEP] \" + pdtrain['speakerMinorityYN'] + \" [SEP] \" + pdtrain['annotatorPolitics'] + \" [SEP] \" + pdtrain['annotatorRace'] + \" [SEP] \" + pdtrain['annotatorAge'] + \" [SEP] \" + pdtrain['targetMinority'] + \" [SEP] \" + pdtrain['targetCategory']\n"
          ]
        }
      ]
    },
    {
      "cell_type": "code",
      "source": [
        "pdval['input_sequence'] = pdval['post'] + \" [SEP] \" + pdval['whoTarget'] + \" [SEP] \" + pdval['intentYN'] + \" [SEP] \" + pdval['sexYN'] + \" [SEP] \" + pdval['sexReason'] + \" [SEP] \" + pdval['offensiveYN'] + \" [SEP] \" + pdval['annotatorGender'] + \" [SEP] \" + pdval['annotatorMinority'] + \" [SEP] \" + pdval['sexPhrase'] + \" [SEP] \" + pdval['speakerMinorityYN'] + \" [SEP] \" + pdval['annotatorPolitics'] + \" [SEP] \" + pdval['annotatorRace'] + \" [SEP] \" + pdval['annotatorAge'] + \" [SEP] \" + pdval['targetMinority'] + \" [SEP] \" + pdval['targetCategory']"
      ],
      "metadata": {
        "id": "05_oHimKm3sY",
        "colab": {
          "base_uri": "https://localhost:8080/"
        },
        "outputId": "821531ac-9c82-4323-dbb6-1d8279728009"
      },
      "execution_count": null,
      "outputs": [
        {
          "output_type": "stream",
          "name": "stderr",
          "text": [
            "<ipython-input-14-38b86ab402c2>:1: SettingWithCopyWarning: \n",
            "A value is trying to be set on a copy of a slice from a DataFrame.\n",
            "Try using .loc[row_indexer,col_indexer] = value instead\n",
            "\n",
            "See the caveats in the documentation: https://pandas.pydata.org/pandas-docs/stable/user_guide/indexing.html#returning-a-view-versus-a-copy\n",
            "  pdval['input_sequence'] = pdval['post'] + \" [SEP] \" + pdval['whoTarget'] + \" [SEP] \" + pdval['intentYN'] + \" [SEP] \" + pdval['sexYN'] + \" [SEP] \" + pdval['sexReason'] + \" [SEP] \" + pdval['offensiveYN'] + \" [SEP] \" + pdval['annotatorGender'] + \" [SEP] \" + pdval['annotatorMinority'] + \" [SEP] \" + pdval['sexPhrase'] + \" [SEP] \" + pdval['speakerMinorityYN'] + \" [SEP] \" + pdval['annotatorPolitics'] + \" [SEP] \" + pdval['annotatorRace'] + \" [SEP] \" + pdval['annotatorAge'] + \" [SEP] \" + pdval['targetMinority'] + \" [SEP] \" + pdval['targetCategory']\n"
          ]
        }
      ]
    },
    {
      "cell_type": "code",
      "source": [
        "ptest['input_sequence'] = ptest['post'] + \" [SEP] \" + ptest['whoTarget'] + \" [SEP] \" + ptest['intentYN'] + \" [SEP] \" + ptest['sexYN'] + \" [SEP] \" + ptest['sexReason'] + \" [SEP] \" + ptest['offensiveYN'] + \" [SEP] \" + ptest['annotatorGender'] + \" [SEP] \" + ptest['annotatorMinority'] + \" [SEP] \" + ptest['sexPhrase'] + \" [SEP] \" + ptest['speakerMinorityYN'] + \" [SEP] \" + ptest['annotatorPolitics'] + \" [SEP] \" + ptest['annotatorRace'] + \" [SEP] \" + ptest['annotatorAge'] + \" [SEP] \" + ptest['targetMinority'] + \" [SEP] \" + ptest['targetCategory']"
      ],
      "metadata": {
        "id": "YrgDwdPgm7n7"
      },
      "execution_count": null,
      "outputs": []
    },
    {
      "cell_type": "code",
      "source": [
        "import torch\n",
        "from transformers import GPT2LMHeadModel, GPT2Tokenizer\n",
        "from transformers import TrainingArguments, Trainer\n",
        "from datasets import load_dataset, load_metric\n",
        "# Load pre-trained GPT-2 model and tokenizer\n",
        "model_name = \"gpt2\"\n",
        "model = GPT2LMHeadModel.from_pretrained(model_name)\n",
        "tokenizer = GPT2Tokenizer.from_pretrained(\"gpt2\", padding_side=\"left\")"
      ],
      "metadata": {
        "execution": {
          "iopub.status.busy": "2024-04-25T05:44:54.493526Z",
          "iopub.execute_input": "2024-04-25T05:44:54.494151Z",
          "iopub.status.idle": "2024-04-25T05:44:55.983116Z",
          "shell.execute_reply.started": "2024-04-25T05:44:54.494123Z",
          "shell.execute_reply": "2024-04-25T05:44:55.982089Z"
        },
        "trusted": true,
        "id": "zpEFmug70eUj"
      },
      "execution_count": null,
      "outputs": []
    },
    {
      "cell_type": "code",
      "source": [
        "train_data = pd.DataFrame({\"input_sequence\":pdtrain[\"input_sequence\"],\"targetStereotype\":pdtrain[\"targetStereotype\"]})\n",
        "val_data = pd.DataFrame({\"input_sequence\":pdval[\"input_sequence\"],\"targetStereotype\":pdval[\"targetStereotype\"]})\n",
        "test_data = pd.DataFrame({\"input_sequence\":ptest[\"input_sequence\"],\"targetStereotype\":ptest[\"targetStereotype\"]})\n"
      ],
      "metadata": {
        "execution": {
          "iopub.status.busy": "2024-04-25T05:45:32.574356Z",
          "iopub.execute_input": "2024-04-25T05:45:32.575041Z",
          "iopub.status.idle": "2024-04-25T05:45:32.604083Z",
          "shell.execute_reply.started": "2024-04-25T05:45:32.575006Z",
          "shell.execute_reply": "2024-04-25T05:45:32.603152Z"
        },
        "trusted": true,
        "id": "4mJgnDxJ0eUk"
      },
      "execution_count": null,
      "outputs": []
    },
    {
      "cell_type": "code",
      "source": [],
      "metadata": {
        "id": "gxPIyjL3JfpF"
      },
      "execution_count": null,
      "outputs": []
    },
    {
      "cell_type": "code",
      "source": [
        "train_data.reset_index(drop=True, inplace=True)\n",
        "val_data.reset_index(drop=True, inplace=True)\n",
        "test_data.reset_index(drop=True, inplace=True)"
      ],
      "metadata": {
        "id": "MN1t-6OBvnsA"
      },
      "execution_count": null,
      "outputs": []
    },
    {
      "cell_type": "code",
      "source": [
        "tokenizer.pad_token = tokenizer.eos_token"
      ],
      "metadata": {
        "execution": {
          "iopub.status.busy": "2024-04-25T05:45:39.027755Z",
          "iopub.execute_input": "2024-04-25T05:45:39.028120Z",
          "iopub.status.idle": "2024-04-25T05:45:39.032858Z",
          "shell.execute_reply.started": "2024-04-25T05:45:39.028090Z",
          "shell.execute_reply": "2024-04-25T05:45:39.031845Z"
        },
        "trusted": true,
        "id": "5ctFEL610eUk"
      },
      "execution_count": null,
      "outputs": []
    },
    {
      "cell_type": "code",
      "source": [
        "def tokenize_function(examples):\n",
        "    inputs = tokenizer(examples['input_sequence'], return_tensors='pt', padding='max_length', max_length=300, truncation=True)\n",
        "    if examples['input_sequence'] == \"\":\n",
        "        inputs = torch.full((1, 300), 50256, dtype=torch.long)\n",
        "    else:\n",
        "        inputs = tokenizer(examples['input_sequence'], return_tensors='pt', padding='max_length', max_length=300, truncation=True)['input_ids']\n",
        "    if examples['targetStereotype'] == \"\":\n",
        "        labels = torch.full((1, 300), 50256, dtype=torch.long)\n",
        "    else:\n",
        "        labels = tokenizer(examples['targetStereotype'], return_tensors='pt', padding='max_length', max_length=300, truncation=True)['input_ids']\n",
        "    return {'input_ids': inputs, 'labels': labels}\n",
        "\n",
        "train_data = train_data.apply(tokenize_function, axis=1)\n",
        "val_data = val_data.apply(tokenize_function, axis=1)"
      ],
      "metadata": {
        "execution": {
          "iopub.status.busy": "2024-04-25T05:45:41.583622Z",
          "iopub.execute_input": "2024-04-25T05:45:41.584599Z",
          "iopub.status.idle": "2024-04-25T05:46:44.482455Z",
          "shell.execute_reply.started": "2024-04-25T05:45:41.584565Z",
          "shell.execute_reply": "2024-04-25T05:46:44.481475Z"
        },
        "trusted": true,
        "id": "JDfvHs1q0eUk"
      },
      "execution_count": null,
      "outputs": []
    },
    {
      "cell_type": "code",
      "source": [
        "import matplotlib.pyplot as plt\n",
        "vec = []\n",
        "for i in pdtrain[\"post\"]:\n",
        "    vec.append(len(i))\n",
        "plt.hist(vec)\n",
        "plt.show()"
      ],
      "metadata": {
        "execution": {
          "iopub.status.busy": "2024-04-25T05:47:24.312002Z",
          "iopub.execute_input": "2024-04-25T05:47:24.312712Z",
          "iopub.status.idle": "2024-04-25T05:47:25.237600Z",
          "shell.execute_reply.started": "2024-04-25T05:47:24.312676Z",
          "shell.execute_reply": "2024-04-25T05:47:25.236721Z"
        },
        "trusted": true,
        "colab": {
          "base_uri": "https://localhost:8080/",
          "height": 430
        },
        "id": "OjXoOsvX0eUk",
        "outputId": "742c7d03-d57f-413d-8239-9cd261d74061"
      },
      "execution_count": null,
      "outputs": [
        {
          "output_type": "display_data",
          "data": {
            "text/plain": [
              "<Figure size 640x480 with 1 Axes>"
            ],
            "image/png": "[encoded data removed]"
          },
          "metadata": {}
        }
      ]
    },
    {
      "cell_type": "code",
      "source": [
        "train_data[7]['input_ids'].shape"
      ],
      "metadata": {
        "execution": {
          "iopub.status.busy": "2024-04-25T05:47:28.354951Z",
          "iopub.execute_input": "2024-04-25T05:47:28.355383Z",
          "iopub.status.idle": "2024-04-25T05:47:28.365916Z",
          "shell.execute_reply.started": "2024-04-25T05:47:28.355350Z",
          "shell.execute_reply": "2024-04-25T05:47:28.364920Z"
        },
        "trusted": true,
        "colab": {
          "base_uri": "https://localhost:8080/"
        },
        "id": "sjbJhS6G0eUl",
        "outputId": "9e6f020e-5b2f-4d19-9bd1-a8731c81808b"
      },
      "execution_count": null,
      "outputs": [
        {
          "output_type": "execute_result",
          "data": {
            "text/plain": [
              "torch.Size([1, 300])"
            ]
          },
          "metadata": {},
          "execution_count": 22
        }
      ]
    },
    {
      "cell_type": "code",
      "source": [
        "for i, entry in enumerate(train_data):\n",
        "    input_ids_shape = entry['input_ids'].shape\n",
        "    if input_ids_shape != torch.Size([1, 300]):\n",
        "        print(f\"Entry {i} in train_data has unexpected input_ids shape: {input_ids_shape}\")\n",
        "        break\n",
        "\n",
        "# Check input_ids shape for each entry in val_data\n",
        "for i, entry in enumerate(val_data):\n",
        "    input_ids_shape = entry['input_ids'].shape\n",
        "    if input_ids_shape != torch.Size([1, 300]):\n",
        "        print(f\"Entry {i} in val_data has unexpected input_ids shape: {input_ids_shape}\")\n",
        "        break"
      ],
      "metadata": {
        "id": "ENsVZbIII70i"
      },
      "execution_count": null,
      "outputs": []
    },
    {
      "cell_type": "code",
      "source": [
        "device = torch.device(\"cuda\" if torch.cuda.is_available() else \"cpu\")"
      ],
      "metadata": {
        "execution": {
          "iopub.status.busy": "2024-04-25T05:47:31.560493Z",
          "iopub.execute_input": "2024-04-25T05:47:31.560877Z",
          "iopub.status.idle": "2024-04-25T05:47:31.569081Z",
          "shell.execute_reply.started": "2024-04-25T05:47:31.560848Z",
          "shell.execute_reply": "2024-04-25T05:47:31.568019Z"
        },
        "trusted": true,
        "id": "l_i7HTt_0eUl"
      },
      "execution_count": null,
      "outputs": []
    },
    {
      "cell_type": "code",
      "source": [
        "device"
      ],
      "metadata": {
        "execution": {
          "iopub.status.busy": "2024-04-25T05:47:33.758144Z",
          "iopub.execute_input": "2024-04-25T05:47:33.758822Z",
          "iopub.status.idle": "2024-04-25T05:47:33.764377Z",
          "shell.execute_reply.started": "2024-04-25T05:47:33.758783Z",
          "shell.execute_reply": "2024-04-25T05:47:33.763388Z"
        },
        "trusted": true,
        "colab": {
          "base_uri": "https://localhost:8080/"
        },
        "id": "1GNX5mYs0eUl",
        "outputId": "a94f2d16-f914-43c8-fc5e-e0c9c22d3a9d"
      },
      "execution_count": null,
      "outputs": [
        {
          "output_type": "execute_result",
          "data": {
            "text/plain": [
              "device(type='cuda')"
            ]
          },
          "metadata": {},
          "execution_count": 25
        }
      ]
    },
    {
      "cell_type": "code",
      "source": [
        "import os\n",
        "\n",
        "directory_path = '/content/model'\n",
        "if os.path.exists(directory_path):\n",
        "    print(\"Directory exists. Proceeding...\")\n",
        "    # Your code here\n",
        "else:\n",
        "  os.mkdir(\"/content/model\")\n",
        "  print(\"Directory does not exist. Please create the directory or provide a valid path.\")"
      ],
      "metadata": {
        "colab": {
          "base_uri": "https://localhost:8080/"
        },
        "id": "E3IBDKD2t1kC",
        "outputId": "3a4d5e60-7850-4288-bfee-50758b07e1aa"
      },
      "execution_count": null,
      "outputs": [
        {
          "output_type": "stream",
          "name": "stdout",
          "text": [
            "Directory exists. Proceeding...\n"
          ]
        }
      ]
    },
    {
      "cell_type": "code",
      "source": [],
      "metadata": {
        "id": "i1lm8rrIx2_U"
      },
      "execution_count": null,
      "outputs": []
    },
    {
      "cell_type": "code",
      "source": [
        "training_args = TrainingArguments(\n",
        "    output_dir='/content/model',\n",
        "    overwrite_output_dir=True,\n",
        "    num_train_epochs=1,\n",
        "    per_device_train_batch_size=16,\n",
        "    evaluation_strategy=\"steps\",\n",
        "    eval_steps=2000,\n",
        "    save_steps=2000,\n",
        "    logging_steps=2000,\n",
        ")\n",
        "\n",
        "trainer = Trainer(\n",
        "    model=model,\n",
        "    args=training_args,\n",
        "    train_dataset=train_data,\n",
        "    eval_dataset=val_data,\n",
        ")\n",
        "\n",
        "trainer.train()"
      ],
      "metadata": {
        "execution": {
          "iopub.status.busy": "2024-04-25T05:50:48.504961Z",
          "iopub.execute_input": "2024-04-25T05:50:48.505748Z",
          "iopub.status.idle": "2024-04-25T05:50:50.583600Z",
          "shell.execute_reply.started": "2024-04-25T05:50:48.505707Z",
          "shell.execute_reply": "2024-04-25T05:50:50.582101Z"
        },
        "trusted": true,
        "colab": {
          "base_uri": "https://localhost:8080/",
          "height": 161
        },
        "id": "QbYM9VEy0eUl",
        "outputId": "907461a3-ca0c-4118-87cd-cbe271021557"
      },
      "execution_count": null,
      "outputs": [
        {
          "output_type": "display_data",
          "data": {
            "text/plain": [
              "<IPython.core.display.HTML object>"
            ],
            "text/html": [
              "\n",
              "    <div>\n",
              "      \n",
              "      <progress value='2607' max='2607' style='width:300px; height:20px; vertical-align: middle;'></progress>\n",
              "      [2607/2607 1:02:55, Epoch 1/1]\n",
              "    </div>\n",
              "    <table border=\"1\" class=\"dataframe\">\n",
              "  <thead>\n",
              " <tr style=\"text-align: left;\">\n",
              "      <th>Step</th>\n",
              "      <th>Training Loss</th>\n",
              "      <th>Validation Loss</th>\n",
              "    </tr>\n",
              "  </thead>\n",
              "  <tbody>\n",
              "    <tr>\n",
              "      <td>2000</td>\n",
              "      <td>0.116800</td>\n",
              "      <td>0.098619</td>\n",
              "    </tr>\n",
              "  </tbody>\n",
              "</table><p>"
            ]
          },
          "metadata": {}
        },
        {
          "output_type": "execute_result",
          "data": {
            "text/plain": [
              "TrainOutput(global_step=2607, training_loss=0.11274769720466007, metrics={'train_runtime': 3777.5309, 'train_samples_per_second': 11.041, 'train_steps_per_second': 0.69, 'total_flos': 6385528166400000.0, 'train_loss': 0.11274769720466007, 'epoch': 1.0})"
            ]
          },
          "metadata": {},
          "execution_count": 27
        }
      ]
    },
    {
      "cell_type": "code",
      "source": [
        "test_data = test_data.apply(tokenize_function, axis=1)"
      ],
      "metadata": {
        "id": "uedTKnLugGyi"
      },
      "execution_count": null,
      "outputs": []
    },
    {
      "cell_type": "code",
      "source": [
        "train_data[0]"
      ],
      "metadata": {
        "id": "kJMIVIplhNO1",
        "colab": {
          "base_uri": "https://localhost:8080/"
        },
        "outputId": "ab6b2498-6a4d-4823-8eb2-d6db0346649f"
      },
      "execution_count": null,
      "outputs": [
        {
          "output_type": "execute_result",
          "data": {
            "text/plain": [
              "{'input_ids': tensor([[50256, 50256, 50256, 50256, 50256, 50256, 50256, 50256, 50256, 50256,\n",
              "          50256, 50256, 50256, 50256, 50256, 50256, 50256, 50256, 50256, 50256,\n",
              "          50256, 50256, 50256, 50256, 50256, 50256, 50256, 50256, 50256, 50256,\n",
              "          50256, 50256, 50256, 50256, 50256, 50256, 50256, 50256, 50256, 50256,\n",
              "          50256, 50256, 50256, 50256, 50256, 50256, 50256, 50256, 50256, 50256,\n",
              "          50256, 50256, 50256, 50256, 50256, 50256, 50256, 50256, 50256, 50256,\n",
              "          50256, 50256, 50256, 50256, 50256, 50256, 50256, 50256, 50256, 50256,\n",
              "          50256, 50256, 50256, 50256, 50256, 50256, 50256, 50256, 50256, 50256,\n",
              "          50256, 50256, 50256, 50256, 50256, 50256, 50256, 50256, 50256, 50256,\n",
              "          50256, 50256, 50256, 50256, 50256, 50256, 50256, 50256, 50256, 50256,\n",
              "          50256, 50256, 50256, 50256, 50256, 50256, 50256, 50256, 50256, 50256,\n",
              "          50256, 50256, 50256, 50256, 50256, 50256, 50256, 50256, 50256, 50256,\n",
              "          50256, 50256, 50256, 50256, 50256, 50256, 50256, 50256, 50256, 50256,\n",
              "          50256, 50256, 50256, 50256, 50256, 50256, 50256, 50256, 50256, 50256,\n",
              "          50256, 50256, 50256, 50256, 50256, 50256, 50256, 50256, 50256, 50256,\n",
              "          50256, 50256, 50256, 50256, 50256, 50256, 50256, 50256, 50256, 50256,\n",
              "          50256, 50256, 50256, 50256, 50256, 50256, 50256, 50256, 50256, 50256,\n",
              "          50256, 50256, 50256, 50256, 50256, 50256, 50256, 50256, 50256, 50256,\n",
              "          50256, 50256, 50256, 50256, 50256, 50256, 50256, 50256, 50256, 50256,\n",
              "          50256, 50256, 50256, 50256, 50256, 50256, 50256, 50256, 14181,  1312,\n",
              "           3856,    57,    78, 42930,  9372,   299, 15249, 24712,  5530,  2105,\n",
              "           8531, 20712, 44915, 21657,   277,  9460,   313,   685,  5188,    47,\n",
              "             60,   352,    13,    15,   685,  5188,    47,    60,   352,    13,\n",
              "             15,   685,  5188,    47,    60,   657,    13,    15,   685,  5188,\n",
              "             47,    60,   220,   685,  5188,    47,    60,   352,    13,    15,\n",
              "            685,  5188,    47,    60,   582,   685,  5188,    47,    60,   220,\n",
              "            685,  5188,    47,    60,   220,   685,  5188,    47,    60,   657,\n",
              "             13,    15,   685,  5188,    47,    60,  7270,   685,  5188,    47,\n",
              "             60,  2330,   685,  5188,    47,    60,  1679,    13,    15,   685,\n",
              "           5188,    47,    60,  2042,  7974,   685,  5188,    47,    60,  3234]]),\n",
              " 'labels': tensor([[50256, 50256, 50256, 50256, 50256, 50256, 50256, 50256, 50256, 50256,\n",
              "          50256, 50256, 50256, 50256, 50256, 50256, 50256, 50256, 50256, 50256,\n",
              "          50256, 50256, 50256, 50256, 50256, 50256, 50256, 50256, 50256, 50256,\n",
              "          50256, 50256, 50256, 50256, 50256, 50256, 50256, 50256, 50256, 50256,\n",
              "          50256, 50256, 50256, 50256, 50256, 50256, 50256, 50256, 50256, 50256,\n",
              "          50256, 50256, 50256, 50256, 50256, 50256, 50256, 50256, 50256, 50256,\n",
              "          50256, 50256, 50256, 50256, 50256, 50256, 50256, 50256, 50256, 50256,\n",
              "          50256, 50256, 50256, 50256, 50256, 50256, 50256, 50256, 50256, 50256,\n",
              "          50256, 50256, 50256, 50256, 50256, 50256, 50256, 50256, 50256, 50256,\n",
              "          50256, 50256, 50256, 50256, 50256, 50256, 50256, 50256, 50256, 50256,\n",
              "          50256, 50256, 50256, 50256, 50256, 50256, 50256, 50256, 50256, 50256,\n",
              "          50256, 50256, 50256, 50256, 50256, 50256, 50256, 50256, 50256, 50256,\n",
              "          50256, 50256, 50256, 50256, 50256, 50256, 50256, 50256, 50256, 50256,\n",
              "          50256, 50256, 50256, 50256, 50256, 50256, 50256, 50256, 50256, 50256,\n",
              "          50256, 50256, 50256, 50256, 50256, 50256, 50256, 50256, 50256, 50256,\n",
              "          50256, 50256, 50256, 50256, 50256, 50256, 50256, 50256, 50256, 50256,\n",
              "          50256, 50256, 50256, 50256, 50256, 50256, 50256, 50256, 50256, 50256,\n",
              "          50256, 50256, 50256, 50256, 50256, 50256, 50256, 50256, 50256, 50256,\n",
              "          50256, 50256, 50256, 50256, 50256, 50256, 50256, 50256, 50256, 50256,\n",
              "          50256, 50256, 50256, 50256, 50256, 50256, 50256, 50256, 50256, 50256,\n",
              "          50256, 50256, 50256, 50256, 50256, 50256, 50256, 50256, 50256, 50256,\n",
              "          50256, 50256, 50256, 50256, 50256, 50256, 50256, 50256, 50256, 50256,\n",
              "          50256, 50256, 50256, 50256, 50256, 50256, 50256, 50256, 50256, 50256,\n",
              "          50256, 50256, 50256, 50256, 50256, 50256, 50256, 50256, 50256, 50256,\n",
              "          50256, 50256, 50256, 50256, 50256, 50256, 50256, 50256, 50256, 50256,\n",
              "          50256, 50256, 50256, 50256, 50256, 50256, 50256, 50256, 50256, 50256,\n",
              "          50256, 50256, 50256, 50256, 50256, 50256, 50256, 50256, 50256, 50256,\n",
              "          50256, 50256, 50256, 50256, 50256, 50256, 50256, 50256, 50256, 50256,\n",
              "          50256, 50256, 50256, 50256, 50256, 50256, 50256, 50256, 50256, 50256,\n",
              "          50256, 50256, 50256, 50256, 50256, 50256, 50256, 50256,   439,  8531]])}"
            ]
          },
          "metadata": {},
          "execution_count": 29
        }
      ]
    },
    {
      "cell_type": "code",
      "source": [
        "import logging\n",
        "\n",
        "# Set the logging level to ignore warnings\n",
        "logging.getLogger(\"transformers\").setLevel(logging.ERROR)"
      ],
      "metadata": {
        "id": "txs0_3rhCj0k"
      },
      "execution_count": null,
      "outputs": []
    },
    {
      "cell_type": "code",
      "source": [
        "model.eval()\n",
        "def give_pred(stry):\n",
        "    with torch.no_grad():\n",
        "        input_ids = stry['input_ids'].to(device)\n",
        "        output = model.generate(input_ids=input_ids, max_length=310, num_return_sequences=1)\n",
        "        # print(output)\n",
        "    generated_text = tokenizer.decode(output[0], skip_special_tokens=True)\n",
        "\n",
        "    return generated_text\n",
        "\n",
        "# pred = [give_pred(x) for x in test_data]"
      ],
      "metadata": {
        "id": "oU772M9pP339"
      },
      "execution_count": null,
      "outputs": []
    },
    {
      "cell_type": "code",
      "source": [
        "give_pred(test_data[0])"
      ],
      "metadata": {
        "id": "dAnNT861pwv0",
        "colab": {
          "base_uri": "https://localhost:8080/",
          "height": 72
        },
        "outputId": "0d1a322e-e545-4edc-e5dd-214a1a7ecd53"
      },
      "execution_count": null,
      "outputs": [
        {
          "output_type": "execute_result",
          "data": {
            "text/plain": [
              "'u hitting back u got ta call bitch love dont u dare call em slut [SEP] 1.0 [SEP] 1.0 [SEP] 0.0 [SEP]  [SEP] 1.0 [SEP] man [SEP]  [SEP]  [SEP] 0.0 [SEP] mod-liberal [SEP] white [SEP] 27.0 [SEP] women [SEP] gender'"
            ],
            "application/vnd.google.colaboratory.intrinsic+json": {
              "type": "string"
            }
          },
          "metadata": {},
          "execution_count": 81
        }
      ]
    },
    {
      "cell_type": "code",
      "source": [
        "pred[10]"
      ],
      "metadata": {
        "colab": {
          "base_uri": "https://localhost:8080/",
          "height": 72
        },
        "id": "NGOEDJbaIyEp",
        "outputId": "c09956a0-80ad-4126-e514-a191c5162af7"
      },
      "execution_count": null,
      "outputs": [
        {
          "output_type": "execute_result",
          "data": {
            "text/plain": [
              "'ReachtheeCLIMAX bitch cant cook know suck dick one [SEP] 1.0 [SEP] 0.66 [SEP] 1.0 [SEP] oral sex [SEP] 1.0 [SEP] woman [SEP]  [SEP] suck dick [SEP] 0.0 [SEP] liberal [SEP] white [SEP] 45.0 [SEP] women [SEP] gender'"
            ],
            "application/vnd.google.colaboratory.intrinsic+json": {
              "type": "string"
            }
          },
          "metadata": {},
          "execution_count": 58
        }
      ]
    },
    {
      "cell_type": "code",
      "source": [
        "pred[5]"
      ],
      "metadata": {
        "colab": {
          "base_uri": "https://localhost:8080/",
          "height": 72
        },
        "id": "qtey9L8eHULp",
        "outputId": "0d21a8ed-6078-4758-971e-689c04d43ed1"
      },
      "execution_count": null,
      "outputs": [
        {
          "output_type": "execute_result",
          "data": {
            "text/plain": [
              "'Fuck bitch send dude child support court youre petty [SEP] 1.0 [SEP] 0.66 [SEP] 0.0 [SEP]  [SEP] 0.5 [SEP] woman [SEP] gender, sexuality, mental illness [SEP]  [SEP] 0.0 [SEP] liberal [SEP] white [SEP] 28.0 [SEP] women [SEP] gender are'"
            ],
            "application/vnd.google.colaboratory.intrinsic+json": {
              "type": "string"
            }
          },
          "metadata": {},
          "execution_count": 54
        }
      ]
    },
    {
      "cell_type": "code",
      "source": [
        "train_data[0]"
      ],
      "metadata": {
        "colab": {
          "base_uri": "https://localhost:8080/"
        },
        "id": "5w1titWgHdLz",
        "outputId": "0a9fd7e1-8055-4b27-a78f-c2abd605138d"
      },
      "execution_count": null,
      "outputs": [
        {
          "output_type": "execute_result",
          "data": {
            "text/plain": [
              "{'input_ids': tensor([[50256, 50256, 50256, 50256, 50256, 50256, 50256, 50256, 50256, 50256,\n",
              "          50256, 50256, 50256, 50256, 50256, 50256, 50256, 50256, 50256, 50256,\n",
              "          50256, 50256, 50256, 50256, 50256, 50256, 50256, 50256, 50256, 50256,\n",
              "          50256, 50256, 50256, 50256, 50256, 50256, 50256, 50256, 50256, 50256,\n",
              "          50256, 50256, 50256, 50256, 50256, 50256, 50256, 50256, 50256, 50256,\n",
              "          50256, 50256, 50256, 50256, 50256, 50256, 50256, 50256, 50256, 50256,\n",
              "          50256, 50256, 50256, 50256, 50256, 50256, 50256, 50256, 50256, 50256,\n",
              "          50256, 50256, 50256, 50256, 50256, 50256, 50256, 50256, 50256, 50256,\n",
              "          50256, 50256, 50256, 50256, 50256, 50256, 50256, 50256, 50256, 50256,\n",
              "          50256, 50256, 50256, 50256, 50256, 50256, 50256, 50256, 50256, 50256,\n",
              "          50256, 50256, 50256, 50256, 50256, 50256, 50256, 50256, 50256, 50256,\n",
              "          50256, 50256, 50256, 50256, 50256, 50256, 50256, 50256, 50256, 50256,\n",
              "          50256, 50256, 50256, 50256, 50256, 50256, 50256, 50256, 50256, 50256,\n",
              "          50256, 50256, 50256, 50256, 50256, 50256, 50256, 50256, 50256, 50256,\n",
              "          50256, 50256, 50256, 50256, 50256, 50256, 50256, 50256, 50256, 50256,\n",
              "          50256, 50256, 50256, 50256, 50256, 50256, 50256, 50256, 50256, 50256,\n",
              "          50256, 50256, 50256, 50256, 50256, 50256, 50256, 50256, 50256, 50256,\n",
              "          50256, 50256, 50256, 50256, 50256, 50256, 50256, 50256, 50256, 50256,\n",
              "          50256, 50256, 50256, 50256, 50256, 50256, 50256, 50256, 50256, 50256,\n",
              "          50256, 50256, 50256, 50256, 50256, 50256, 50256, 50256, 14181,  1312,\n",
              "           3856,    57,    78, 42930,  9372,   299, 15249, 24712,  5530,  2105,\n",
              "           8531, 20712, 44915, 21657,   277,  9460,   313,   685,  5188,    47,\n",
              "             60,   352,    13,    15,   685,  5188,    47,    60,   352,    13,\n",
              "             15,   685,  5188,    47,    60,   657,    13,    15,   685,  5188,\n",
              "             47,    60,   220,   685,  5188,    47,    60,   352,    13,    15,\n",
              "            685,  5188,    47,    60,   582,   685,  5188,    47,    60,   220,\n",
              "            685,  5188,    47,    60,   220,   685,  5188,    47,    60,   657,\n",
              "             13,    15,   685,  5188,    47,    60,  7270,   685,  5188,    47,\n",
              "             60,  2330,   685,  5188,    47,    60,  1679,    13,    15,   685,\n",
              "           5188,    47,    60,  2042,  7974,   685,  5188,    47,    60,  3234]]),\n",
              " 'labels': tensor([[50256, 50256, 50256, 50256, 50256, 50256, 50256, 50256, 50256, 50256,\n",
              "          50256, 50256, 50256, 50256, 50256, 50256, 50256, 50256, 50256, 50256,\n",
              "          50256, 50256, 50256, 50256, 50256, 50256, 50256, 50256, 50256, 50256,\n",
              "          50256, 50256, 50256, 50256, 50256, 50256, 50256, 50256, 50256, 50256,\n",
              "          50256, 50256, 50256, 50256, 50256, 50256, 50256, 50256, 50256, 50256,\n",
              "          50256, 50256, 50256, 50256, 50256, 50256, 50256, 50256, 50256, 50256,\n",
              "          50256, 50256, 50256, 50256, 50256, 50256, 50256, 50256, 50256, 50256,\n",
              "          50256, 50256, 50256, 50256, 50256, 50256, 50256, 50256, 50256, 50256,\n",
              "          50256, 50256, 50256, 50256, 50256, 50256, 50256, 50256, 50256, 50256,\n",
              "          50256, 50256, 50256, 50256, 50256, 50256, 50256, 50256, 50256, 50256,\n",
              "          50256, 50256, 50256, 50256, 50256, 50256, 50256, 50256, 50256, 50256,\n",
              "          50256, 50256, 50256, 50256, 50256, 50256, 50256, 50256, 50256, 50256,\n",
              "          50256, 50256, 50256, 50256, 50256, 50256, 50256, 50256, 50256, 50256,\n",
              "          50256, 50256, 50256, 50256, 50256, 50256, 50256, 50256, 50256, 50256,\n",
              "          50256, 50256, 50256, 50256, 50256, 50256, 50256, 50256, 50256, 50256,\n",
              "          50256, 50256, 50256, 50256, 50256, 50256, 50256, 50256, 50256, 50256,\n",
              "          50256, 50256, 50256, 50256, 50256, 50256, 50256, 50256, 50256, 50256,\n",
              "          50256, 50256, 50256, 50256, 50256, 50256, 50256, 50256, 50256, 50256,\n",
              "          50256, 50256, 50256, 50256, 50256, 50256, 50256, 50256, 50256, 50256,\n",
              "          50256, 50256, 50256, 50256, 50256, 50256, 50256, 50256, 50256, 50256,\n",
              "          50256, 50256, 50256, 50256, 50256, 50256, 50256, 50256, 50256, 50256,\n",
              "          50256, 50256, 50256, 50256, 50256, 50256, 50256, 50256, 50256, 50256,\n",
              "          50256, 50256, 50256, 50256, 50256, 50256, 50256, 50256, 50256, 50256,\n",
              "          50256, 50256, 50256, 50256, 50256, 50256, 50256, 50256, 50256, 50256,\n",
              "          50256, 50256, 50256, 50256, 50256, 50256, 50256, 50256, 50256, 50256,\n",
              "          50256, 50256, 50256, 50256, 50256, 50256, 50256, 50256, 50256, 50256,\n",
              "          50256, 50256, 50256, 50256, 50256, 50256, 50256, 50256, 50256, 50256,\n",
              "          50256, 50256, 50256, 50256, 50256, 50256, 50256, 50256, 50256, 50256,\n",
              "          50256, 50256, 50256, 50256, 50256, 50256, 50256, 50256, 50256, 50256,\n",
              "          50256, 50256, 50256, 50256, 50256, 50256, 50256, 50256,   439,  8531]])}"
            ]
          },
          "metadata": {},
          "execution_count": 59
        }
      ]
    },
    {
      "cell_type": "code",
      "source": [
        "train_data[0]"
      ],
      "metadata": {
        "colab": {
          "base_uri": "https://localhost:8080/"
        },
        "id": "hRpQ3klhJvRG",
        "outputId": "eea77136-d8dd-42ba-c6a7-2ebf2887c471"
      },
      "execution_count": null,
      "outputs": [
        {
          "output_type": "execute_result",
          "data": {
            "text/plain": [
              "{'input_ids': tensor([[50256, 50256, 50256, 50256, 50256, 50256, 50256, 50256, 50256, 50256,\n",
              "          50256, 50256, 50256, 50256, 50256, 50256, 50256, 50256, 50256, 50256,\n",
              "          50256, 50256, 50256, 50256, 50256, 50256, 50256, 50256, 50256, 50256,\n",
              "          50256, 50256, 50256, 50256, 50256, 50256, 50256, 50256, 50256, 50256,\n",
              "          50256, 50256, 50256, 50256, 50256, 50256, 50256, 50256, 50256, 50256,\n",
              "          50256, 50256, 50256, 50256, 50256, 50256, 50256, 50256, 50256, 50256,\n",
              "          50256, 50256, 50256, 50256, 50256, 50256, 50256, 50256, 50256, 50256,\n",
              "          50256, 50256, 50256, 50256, 50256, 50256, 50256, 50256, 50256, 50256,\n",
              "          50256, 50256, 50256, 50256, 50256, 50256, 50256, 50256, 50256, 50256,\n",
              "          50256, 50256, 50256, 50256, 50256, 50256, 50256, 50256, 50256, 50256,\n",
              "          50256, 50256, 50256, 50256, 50256, 50256, 50256, 50256, 50256, 50256,\n",
              "          50256, 50256, 50256, 50256, 50256, 50256, 50256, 50256, 50256, 50256,\n",
              "          50256, 50256, 50256, 50256, 50256, 50256, 50256, 50256, 50256, 50256,\n",
              "          50256, 50256, 50256, 50256, 50256, 50256, 50256, 50256, 50256, 50256,\n",
              "          50256, 50256, 50256, 50256, 50256, 50256, 50256, 50256, 50256, 50256,\n",
              "          50256, 50256, 50256, 50256, 50256, 50256, 50256, 50256, 50256, 50256,\n",
              "          50256, 50256, 50256, 50256, 50256, 50256, 50256, 50256, 50256, 50256,\n",
              "          50256, 50256, 50256, 50256, 50256, 50256, 50256, 50256, 50256, 50256,\n",
              "          50256, 50256, 50256, 50256, 50256, 50256, 50256, 50256, 50256, 50256,\n",
              "          50256, 50256, 50256, 50256, 50256, 50256, 50256, 50256, 14181,  1312,\n",
              "           3856,    57,    78, 42930,  9372,   299, 15249, 24712,  5530,  2105,\n",
              "           8531, 20712, 44915, 21657,   277,  9460,   313,   685,  5188,    47,\n",
              "             60,   352,    13,    15,   685,  5188,    47,    60,   352,    13,\n",
              "             15,   685,  5188,    47,    60,   657,    13,    15,   685,  5188,\n",
              "             47,    60,   220,   685,  5188,    47,    60,   352,    13,    15,\n",
              "            685,  5188,    47,    60,   582,   685,  5188,    47,    60,   220,\n",
              "            685,  5188,    47,    60,   220,   685,  5188,    47,    60,   657,\n",
              "             13,    15,   685,  5188,    47,    60,  7270,   685,  5188,    47,\n",
              "             60,  2330,   685,  5188,    47,    60,  1679,    13,    15,   685,\n",
              "           5188,    47,    60,  2042,  7974,   685,  5188,    47,    60,  3234]]),\n",
              " 'labels': tensor([[50256, 50256, 50256, 50256, 50256, 50256, 50256, 50256, 50256, 50256,\n",
              "          50256, 50256, 50256, 50256, 50256, 50256, 50256, 50256, 50256, 50256,\n",
              "          50256, 50256, 50256, 50256, 50256, 50256, 50256, 50256, 50256, 50256,\n",
              "          50256, 50256, 50256, 50256, 50256, 50256, 50256, 50256, 50256, 50256,\n",
              "          50256, 50256, 50256, 50256, 50256, 50256, 50256, 50256, 50256, 50256,\n",
              "          50256, 50256, 50256, 50256, 50256, 50256, 50256, 50256, 50256, 50256,\n",
              "          50256, 50256, 50256, 50256, 50256, 50256, 50256, 50256, 50256, 50256,\n",
              "          50256, 50256, 50256, 50256, 50256, 50256, 50256, 50256, 50256, 50256,\n",
              "          50256, 50256, 50256, 50256, 50256, 50256, 50256, 50256, 50256, 50256,\n",
              "          50256, 50256, 50256, 50256, 50256, 50256, 50256, 50256, 50256, 50256,\n",
              "          50256, 50256, 50256, 50256, 50256, 50256, 50256, 50256, 50256, 50256,\n",
              "          50256, 50256, 50256, 50256, 50256, 50256, 50256, 50256, 50256, 50256,\n",
              "          50256, 50256, 50256, 50256, 50256, 50256, 50256, 50256, 50256, 50256,\n",
              "          50256, 50256, 50256, 50256, 50256, 50256, 50256, 50256, 50256, 50256,\n",
              "          50256, 50256, 50256, 50256, 50256, 50256, 50256, 50256, 50256, 50256,\n",
              "          50256, 50256, 50256, 50256, 50256, 50256, 50256, 50256, 50256, 50256,\n",
              "          50256, 50256, 50256, 50256, 50256, 50256, 50256, 50256, 50256, 50256,\n",
              "          50256, 50256, 50256, 50256, 50256, 50256, 50256, 50256, 50256, 50256,\n",
              "          50256, 50256, 50256, 50256, 50256, 50256, 50256, 50256, 50256, 50256,\n",
              "          50256, 50256, 50256, 50256, 50256, 50256, 50256, 50256, 50256, 50256,\n",
              "          50256, 50256, 50256, 50256, 50256, 50256, 50256, 50256, 50256, 50256,\n",
              "          50256, 50256, 50256, 50256, 50256, 50256, 50256, 50256, 50256, 50256,\n",
              "          50256, 50256, 50256, 50256, 50256, 50256, 50256, 50256, 50256, 50256,\n",
              "          50256, 50256, 50256, 50256, 50256, 50256, 50256, 50256, 50256, 50256,\n",
              "          50256, 50256, 50256, 50256, 50256, 50256, 50256, 50256, 50256, 50256,\n",
              "          50256, 50256, 50256, 50256, 50256, 50256, 50256, 50256, 50256, 50256,\n",
              "          50256, 50256, 50256, 50256, 50256, 50256, 50256, 50256, 50256, 50256,\n",
              "          50256, 50256, 50256, 50256, 50256, 50256, 50256, 50256, 50256, 50256,\n",
              "          50256, 50256, 50256, 50256, 50256, 50256, 50256, 50256, 50256, 50256,\n",
              "          50256, 50256, 50256, 50256, 50256, 50256, 50256, 50256,   439,  8531]])}"
            ]
          },
          "metadata": {},
          "execution_count": 57
        }
      ]
    }
  ]
}